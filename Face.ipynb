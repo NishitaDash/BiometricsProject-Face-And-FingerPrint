{
 "cells": [
  {
   "cell_type": "code",
   "execution_count": 1,
   "id": "cdebbe84",
   "metadata": {},
   "outputs": [],
   "source": [
    "import page1\n",
    "#import page2\n",
    "#import uploadtry\n",
    "#import middle"
   ]
  },
  {
   "cell_type": "code",
   "execution_count": 2,
   "id": "0bad2caa",
   "metadata": {},
   "outputs": [
    {
     "name": "stdout",
     "output_type": "stream",
     "text": [
      "23\n",
      "Hello Nishita Dash\n",
      "Your Balance Money is 40\n",
      "New bal 63\n"
     ]
    },
    {
     "name": "stderr",
     "output_type": "stream",
     "text": [
      "C:\\Users\\Dell\\anaconda3\\envs\\myenv\\biometrics-project\\page3.py:40: SettingWithCopyWarning: \n",
      "A value is trying to be set on a copy of a slice from a DataFrame\n",
      "\n",
      "See the caveats in the documentation: https://pandas.pydata.org/pandas-docs/stable/user_guide/indexing.html#returning-a-view-versus-a-copy\n",
      "  df.amount[indexes[0]]=b\n"
     ]
    }
   ],
   "source": [
    "import choice\n",
    "#import page3\n",
    "#import page4"
   ]
  },
  {
   "cell_type": "code",
   "execution_count": null,
   "id": "dbb0e1c5",
   "metadata": {},
   "outputs": [],
   "source": [
    "#Nikhitha fingerprint preprocessing\n",
    "#Nishita fingerprint preprocessing\n",
    "#parvana Fingerprint matching\n",
    "#sudarshana Fingerprint matching\n",
    "#Hridhi Face recognition, GUI"
   ]
  }
 ],
 "metadata": {
  "kernelspec": {
   "display_name": "Python 3",
   "language": "python",
   "name": "python3"
  },
  "language_info": {
   "codemirror_mode": {
    "name": "ipython",
    "version": 3
   },
   "file_extension": ".py",
   "mimetype": "text/x-python",
   "name": "python",
   "nbconvert_exporter": "python",
   "pygments_lexer": "ipython3",
   "version": "3.6.13"
  }
 },
 "nbformat": 4,
 "nbformat_minor": 5
}
